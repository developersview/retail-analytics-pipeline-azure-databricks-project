{
 "cells": [
  {
   "cell_type": "markdown",
   "metadata": {
    "application/vnd.databricks.v1+cell": {
     "cellMetadata": {},
     "inputWidgets": {},
     "nuid": "9ec1e6cf-58d7-4051-acfa-42f41d589c83",
     "showTitle": false,
     "tableResultSettingsMap": {},
     "title": ""
    }
   },
   "source": [
    "## Lookup Notebook"
   ]
  },
  {
   "cell_type": "code",
   "execution_count": 0,
   "metadata": {
    "application/vnd.databricks.v1+cell": {
     "cellMetadata": {
      "byteLimit": 2048000,
      "rowLimit": 10000
     },
     "inputWidgets": {},
     "nuid": "2c171df0-ace5-4d42-b725-8c70892473a4",
     "showTitle": false,
     "tableResultSettingsMap": {},
     "title": ""
    }
   },
   "outputs": [],
   "source": [
    "folders = [\n",
    "\t{\n",
    "\t\t\"sourcefolder\": \"Product\",\n",
    "\t\t\"destinationfolder\": \"Product\"\n",
    "\t},\n",
    "\t{\n",
    "\t\t\"sourcefolder\": \"Region\",\n",
    "\t\t\"destinationfolder\": \"Region\"\n",
    "\t},\n",
    "\t{\n",
    "\t\t\"sourcefolder\": \"Reseller\",\n",
    "\t\t\"destinationfolder\": \"Reseller\"\n",
    "\t},\n",
    "\t{\n",
    "\t\t\"sourcefolder\": \"Sales\",\n",
    "\t\t\"destinationfolder\": \"Sales\"\n",
    "\t},\n",
    "\t{\n",
    "\t\t\"sourcefolder\": \"Salesperson\",\n",
    "\t\t\"destinationfolder\": \"Salesperson\"\n",
    "\t},\n",
    "\t{\n",
    "\t\t\"sourcefolder\": \"SalespersonRegion\",\n",
    "\t\t\"destinationfolder\": \"SalespersonRegion\"\n",
    "\t},\n",
    "\t{\n",
    "\t\t\"sourcefolder\": \"Targets\",\n",
    "\t\t\"destinationfolder\": \"Targets\"\n",
    "\t}\n",
    "]"
   ]
  },
  {
   "cell_type": "code",
   "execution_count": 0,
   "metadata": {
    "application/vnd.databricks.v1+cell": {
     "cellMetadata": {
      "byteLimit": 2048000,
      "rowLimit": 10000
     },
     "inputWidgets": {},
     "nuid": "c75311f9-ea62-44c4-a5c0-ae16c65ef59a",
     "showTitle": false,
     "tableResultSettingsMap": {},
     "title": ""
    }
   },
   "outputs": [],
   "source": [
    "dbutils.jobs.taskValues.set(key=\"folders_array\", value=folders)"
   ]
  }
 ],
 "metadata": {
  "application/vnd.databricks.v1+notebook": {
   "computePreferences": null,
   "dashboards": [],
   "environmentMetadata": {
    "base_environment": "",
    "environment_version": "2"
   },
   "inputWidgetPreferences": null,
   "language": "python",
   "notebookMetadata": {
    "pythonIndentUnit": 4
   },
   "notebookName": "lookup_notebook",
   "widgets": {}
  },
  "language_info": {
   "name": "python"
  }
 },
 "nbformat": 4,
 "nbformat_minor": 0
}