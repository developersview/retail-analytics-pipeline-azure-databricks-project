{
 "cells": [
  {
   "cell_type": "code",
   "execution_count": 0,
   "metadata": {
    "application/vnd.databricks.v1+cell": {
     "cellMetadata": {
      "byteLimit": 2048000,
      "rowLimit": 10000
     },
     "inputWidgets": {},
     "nuid": "53a4371c-4251-429f-82e8-4d7b72210a47",
     "showTitle": false,
     "tableResultSettingsMap": {},
     "title": ""
    }
   },
   "outputs": [
    {
     "output_type": "stream",
     "name": "stdout",
     "output_type": "stream",
     "text": [
      "+----------+--------------------+-------------+-----+-----------+-----------+-----------------------+-----------------+\n|ProductKey|             Product|Standard Cost|Color|Subcategory|   Category|Background Color Format|Font Color Format|\n+----------+--------------------+-------------+-----+-----------+-----------+-----------------------+-----------------+\n|       210|HL Road Frame - B...|      $868.63|Black|Road Frames| Components|                #000000|          #FFFFFF|\n|       215|Sport-100 Helmet,...|       $12.03|Black|    Helmets|Accessories|                #000000|          #FFFFFF|\n|       216|Sport-100 Helmet,...|       $13.88|Black|    Helmets|Accessories|                #000000|          #FFFFFF|\n|       217|Sport-100 Helmet,...|       $13.09|Black|    Helmets|Accessories|                #000000|          #FFFFFF|\n|       253|LL Road Frame - B...|       $176.2|Black|Road Frames| Components|                #000000|          #FFFFFF|\n|       254|LL Road Frame - B...|      $170.14|Black|Road Frames| Components|                #000000|          #FFFFFF|\n|       255|LL Road Frame - B...|      $204.63|Black|Road Frames| Components|                #000000|          #FFFFFF|\n|       256|LL Road Frame - B...|       $176.2|Black|Road Frames| Components|                #000000|          #FFFFFF|\n|       257|LL Road Frame - B...|      $170.14|Black|Road Frames| Components|                #000000|          #FFFFFF|\n|       258|LL Road Frame - B...|      $204.63|Black|Road Frames| Components|                #000000|          #FFFFFF|\n|       259|LL Road Frame - B...|       $176.2|Black|Road Frames| Components|                #000000|          #FFFFFF|\n|       260|LL Road Frame - B...|      $170.14|Black|Road Frames| Components|                #000000|          #FFFFFF|\n|       261|LL Road Frame - B...|      $204.63|Black|Road Frames| Components|                #000000|          #FFFFFF|\n|       279|LL Road Frame - B...|       $176.2|Black|Road Frames| Components|                #000000|          #FFFFFF|\n|       280|LL Road Frame - B...|      $170.14|Black|Road Frames| Components|                #000000|          #FFFFFF|\n|       281|LL Road Frame - B...|      $204.63|Black|Road Frames| Components|                #000000|          #FFFFFF|\n|       282|LL Road Frame - B...|       $176.2|Black|Road Frames| Components|                #000000|          #FFFFFF|\n|       283|LL Road Frame - B...|      $170.14|Black|Road Frames| Components|                #000000|          #FFFFFF|\n|       284|LL Road Frame - B...|      $204.63|Black|Road Frames| Components|                #000000|          #FFFFFF|\n|       285|LL Road Frame - B...|       $176.2|Black|Road Frames| Components|                #000000|          #FFFFFF|\n+----------+--------------------+-------------+-----+-----------+-----------+-----------------------+-----------------+\nonly showing top 20 rows\n"
     ]
    }
   ],
   "source": [
    "df = spark.read.csv('abfss://bronze@azureprojectdatalakegen2.dfs.core.windows.net/Product/Product.csv', header=True, inferSchema=True)\n",
    "df.show()"
   ]
  },
  {
   "cell_type": "code",
   "execution_count": 0,
   "metadata": {
    "application/vnd.databricks.v1+cell": {
     "cellMetadata": {
      "byteLimit": 2048000,
      "rowLimit": 10000
     },
     "inputWidgets": {},
     "nuid": "05e4ce9c-2e84-4111-b068-1d13004f90f9",
     "showTitle": false,
     "tableResultSettingsMap": {},
     "title": ""
    }
   },
   "outputs": [
    {
     "output_type": "stream",
     "name": "stdout",
     "output_type": "stream",
     "text": [
      "root\n |-- ProductKey: integer (nullable = true)\n |-- Product: string (nullable = true)\n |-- Standard Cost: string (nullable = true)\n |-- Color: string (nullable = true)\n |-- Subcategory: string (nullable = true)\n |-- Category: string (nullable = true)\n |-- Background Color Format: string (nullable = true)\n |-- Font Color Format: string (nullable = true)\n\n"
     ]
    }
   ],
   "source": [
    "df.printSchema()"
   ]
  },
  {
   "cell_type": "code",
   "execution_count": 0,
   "metadata": {
    "application/vnd.databricks.v1+cell": {
     "cellMetadata": {
      "byteLimit": 2048000,
      "rowLimit": 10000
     },
     "inputWidgets": {},
     "nuid": "d86d273e-cba7-4106-86ce-1622d24c923e",
     "showTitle": false,
     "tableResultSettingsMap": {},
     "title": ""
    }
   },
   "outputs": [],
   "source": [
    "df.write.format(\"csv\").mode(\"overwrite\")\\\n",
    "    .option(\"path\", f\"abfss://silver@azureprojectdatalakegen2.dfs.core.windows.net/Product\")\\\n",
    "    .save()"
   ]
  }
 ],
 "metadata": {
  "application/vnd.databricks.v1+notebook": {
   "computePreferences": null,
   "dashboards": [],
   "environmentMetadata": {
    "base_environment": "",
    "environment_version": "2"
   },
   "inputWidgetPreferences": null,
   "language": "python",
   "notebookMetadata": {
    "pythonIndentUnit": 4
   },
   "notebookName": "ref_notebook",
   "widgets": {}
  },
  "language_info": {
   "name": "python"
  }
 },
 "nbformat": 4,
 "nbformat_minor": 0
}