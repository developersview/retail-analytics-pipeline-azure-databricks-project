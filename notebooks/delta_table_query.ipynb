{
 "cells": [
  {
   "cell_type": "code",
   "execution_count": 0,
   "metadata": {
    "application/vnd.databricks.v1+cell": {
     "cellMetadata": {
      "byteLimit": 2048000,
      "implicitDf": true,
      "rowLimit": 10000
     },
     "inputWidgets": {},
     "nuid": "a8da7e77-a3d2-44bb-92cb-1a66a33612be",
     "showTitle": false,
     "tableResultSettingsMap": {},
     "title": ""
    }
   },
   "outputs": [
    {
     "output_type": "display_data",
     "data": {
      "text/html": [
       "<style scoped>\n",
       "  .table-result-container {\n",
       "    max-height: 300px;\n",
       "    overflow: auto;\n",
       "  }\n",
       "  table, th, td {\n",
       "    border: 1px solid black;\n",
       "    border-collapse: collapse;\n",
       "  }\n",
       "  th, td {\n",
       "    padding: 5px;\n",
       "  }\n",
       "  th {\n",
       "    text-align: left;\n",
       "  }\n",
       "</style><div class='table-result-container'><table class='table-result'><thead style='background-color: white'><tr><th>ProductKey</th><th>Product</th><th>StandardCost</th><th>Color</th><th>Subcategory</th><th>Category</th><th>BackgroundColorFormat</th><th>FontColorFormat</th></tr></thead><tbody><tr><td>210</td><td>HL Road Frame - Black, 58</td><td>$868.63</td><td>Black</td><td>Road Frames</td><td>Components</td><td>#000000</td><td>#FFFFFF</td></tr><tr><td>215</td><td>Sport-100 Helmet, Black</td><td>$12.03</td><td>Black</td><td>Helmets</td><td>Accessories</td><td>#000000</td><td>#FFFFFF</td></tr><tr><td>216</td><td>Sport-100 Helmet, Black</td><td>$13.88</td><td>Black</td><td>Helmets</td><td>Accessories</td><td>#000000</td><td>#FFFFFF</td></tr><tr><td>217</td><td>Sport-100 Helmet, Black</td><td>$13.09</td><td>Black</td><td>Helmets</td><td>Accessories</td><td>#000000</td><td>#FFFFFF</td></tr><tr><td>253</td><td>LL Road Frame - Black, 58</td><td>$176.2</td><td>Black</td><td>Road Frames</td><td>Components</td><td>#000000</td><td>#FFFFFF</td></tr><tr><td>254</td><td>LL Road Frame - Black, 58</td><td>$170.14</td><td>Black</td><td>Road Frames</td><td>Components</td><td>#000000</td><td>#FFFFFF</td></tr><tr><td>255</td><td>LL Road Frame - Black, 58</td><td>$204.63</td><td>Black</td><td>Road Frames</td><td>Components</td><td>#000000</td><td>#FFFFFF</td></tr><tr><td>256</td><td>LL Road Frame - Black, 60</td><td>$176.2</td><td>Black</td><td>Road Frames</td><td>Components</td><td>#000000</td><td>#FFFFFF</td></tr><tr><td>257</td><td>LL Road Frame - Black, 60</td><td>$170.14</td><td>Black</td><td>Road Frames</td><td>Components</td><td>#000000</td><td>#FFFFFF</td></tr><tr><td>258</td><td>LL Road Frame - Black, 60</td><td>$204.63</td><td>Black</td><td>Road Frames</td><td>Components</td><td>#000000</td><td>#FFFFFF</td></tr></tbody></table></div>"
      ]
     },
     "metadata": {
      "application/vnd.databricks.v1+output": {
       "addedWidgets": {},
       "aggData": [],
       "aggError": "",
       "aggOverflow": false,
       "aggSchema": [],
       "aggSeriesLimitReached": false,
       "aggType": "",
       "arguments": {},
       "columnCustomDisplayInfos": {},
       "data": [
        [
         210,
         "HL Road Frame - Black, 58",
         "$868.63",
         "Black",
         "Road Frames",
         "Components",
         "#000000",
         "#FFFFFF"
        ],
        [
         215,
         "Sport-100 Helmet, Black",
         "$12.03",
         "Black",
         "Helmets",
         "Accessories",
         "#000000",
         "#FFFFFF"
        ],
        [
         216,
         "Sport-100 Helmet, Black",
         "$13.88",
         "Black",
         "Helmets",
         "Accessories",
         "#000000",
         "#FFFFFF"
        ],
        [
         217,
         "Sport-100 Helmet, Black",
         "$13.09",
         "Black",
         "Helmets",
         "Accessories",
         "#000000",
         "#FFFFFF"
        ],
        [
         253,
         "LL Road Frame - Black, 58",
         "$176.2",
         "Black",
         "Road Frames",
         "Components",
         "#000000",
         "#FFFFFF"
        ],
        [
         254,
         "LL Road Frame - Black, 58",
         "$170.14",
         "Black",
         "Road Frames",
         "Components",
         "#000000",
         "#FFFFFF"
        ],
        [
         255,
         "LL Road Frame - Black, 58",
         "$204.63",
         "Black",
         "Road Frames",
         "Components",
         "#000000",
         "#FFFFFF"
        ],
        [
         256,
         "LL Road Frame - Black, 60",
         "$176.2",
         "Black",
         "Road Frames",
         "Components",
         "#000000",
         "#FFFFFF"
        ],
        [
         257,
         "LL Road Frame - Black, 60",
         "$170.14",
         "Black",
         "Road Frames",
         "Components",
         "#000000",
         "#FFFFFF"
        ],
        [
         258,
         "LL Road Frame - Black, 60",
         "$204.63",
         "Black",
         "Road Frames",
         "Components",
         "#000000",
         "#FFFFFF"
        ]
       ],
       "datasetInfos": [
        {
         "name": "_sqldf",
         "schema": {
          "fields": [
           {
            "metadata": {},
            "name": "ProductKey",
            "nullable": true,
            "type": "integer"
           },
           {
            "metadata": {},
            "name": "Product",
            "nullable": true,
            "type": "string"
           },
           {
            "metadata": {},
            "name": "StandardCost",
            "nullable": true,
            "type": "string"
           },
           {
            "metadata": {},
            "name": "Color",
            "nullable": true,
            "type": "string"
           },
           {
            "metadata": {},
            "name": "Subcategory",
            "nullable": true,
            "type": "string"
           },
           {
            "metadata": {},
            "name": "Category",
            "nullable": true,
            "type": "string"
           },
           {
            "metadata": {},
            "name": "BackgroundColorFormat",
            "nullable": true,
            "type": "string"
           },
           {
            "metadata": {},
            "name": "FontColorFormat",
            "nullable": true,
            "type": "string"
           }
          ],
          "type": "struct"
         },
         "tableIdentifier": null,
         "typeStr": "pyspark.sql.connect.dataframe.DataFrame"
        }
       ],
       "dbfsResultPath": null,
       "isJsonSchema": true,
       "metadata": {
        "createTempViewForImplicitDf": true,
        "dataframeName": "_sqldf",
        "executionCount": 5
       },
       "overflow": false,
       "plotOptions": {
        "customPlotOptions": {},
        "displayType": "table",
        "pivotAggregation": null,
        "pivotColumns": null,
        "xColumns": null,
        "yColumns": null
       },
       "removedWidgets": [],
       "schema": [
        {
         "metadata": "{}",
         "name": "ProductKey",
         "type": "\"integer\""
        },
        {
         "metadata": "{}",
         "name": "Product",
         "type": "\"string\""
        },
        {
         "metadata": "{}",
         "name": "StandardCost",
         "type": "\"string\""
        },
        {
         "metadata": "{}",
         "name": "Color",
         "type": "\"string\""
        },
        {
         "metadata": "{}",
         "name": "Subcategory",
         "type": "\"string\""
        },
        {
         "metadata": "{}",
         "name": "Category",
         "type": "\"string\""
        },
        {
         "metadata": "{}",
         "name": "BackgroundColorFormat",
         "type": "\"string\""
        },
        {
         "metadata": "{}",
         "name": "FontColorFormat",
         "type": "\"string\""
        }
       ],
       "type": "table"
      }
     },
     "output_type": "display_data"
    }
   ],
   "source": [
    "%sql\n",
    "SELECT \n",
    "  * \n",
    "FROM \n",
    "  netflix_data.netflix_schema.product\n",
    "LIMIT 10;"
   ]
  },
  {
   "cell_type": "code",
   "execution_count": 0,
   "metadata": {
    "application/vnd.databricks.v1+cell": {
     "cellMetadata": {
      "byteLimit": 2048000,
      "implicitDf": true,
      "rowLimit": 10000
     },
     "inputWidgets": {},
     "nuid": "4b4dad50-cd02-4d87-aa17-6cded058d61c",
     "showTitle": false,
     "tableResultSettingsMap": {},
     "title": ""
    }
   },
   "outputs": [
    {
     "output_type": "display_data",
     "data": {
      "text/html": [
       "<style scoped>\n",
       "  .table-result-container {\n",
       "    max-height: 300px;\n",
       "    overflow: auto;\n",
       "  }\n",
       "  table, th, td {\n",
       "    border: 1px solid black;\n",
       "    border-collapse: collapse;\n",
       "  }\n",
       "  th, td {\n",
       "    padding: 5px;\n",
       "  }\n",
       "  th {\n",
       "    text-align: left;\n",
       "  }\n",
       "</style><div class='table-result-container'><table class='table-result'><thead style='background-color: white'><tr><th>SalesTerritoryKey</th><th>Region</th><th>Country</th><th>Group</th></tr></thead><tbody><tr><td>1</td><td>Northwest</td><td>United States</td><td>North America</td></tr><tr><td>2</td><td>Northeast</td><td>United States</td><td>North America</td></tr><tr><td>3</td><td>Central</td><td>United States</td><td>North America</td></tr><tr><td>4</td><td>Southwest</td><td>United States</td><td>North America</td></tr><tr><td>5</td><td>Southeast</td><td>United States</td><td>North America</td></tr><tr><td>6</td><td>Canada</td><td>Canada</td><td>North America</td></tr><tr><td>7</td><td>France</td><td>France</td><td>Europe</td></tr><tr><td>8</td><td>Germany</td><td>Germany</td><td>Europe</td></tr><tr><td>9</td><td>Australia</td><td>Australia</td><td>Pacific</td></tr><tr><td>10</td><td>United Kingdom</td><td>United Kingdom</td><td>Europe</td></tr></tbody></table></div>"
      ]
     },
     "metadata": {
      "application/vnd.databricks.v1+output": {
       "addedWidgets": {},
       "aggData": [],
       "aggError": "",
       "aggOverflow": false,
       "aggSchema": [],
       "aggSeriesLimitReached": false,
       "aggType": "",
       "arguments": {},
       "columnCustomDisplayInfos": {},
       "data": [
        [
         1,
         "Northwest",
         "United States",
         "North America"
        ],
        [
         2,
         "Northeast",
         "United States",
         "North America"
        ],
        [
         3,
         "Central",
         "United States",
         "North America"
        ],
        [
         4,
         "Southwest",
         "United States",
         "North America"
        ],
        [
         5,
         "Southeast",
         "United States",
         "North America"
        ],
        [
         6,
         "Canada",
         "Canada",
         "North America"
        ],
        [
         7,
         "France",
         "France",
         "Europe"
        ],
        [
         8,
         "Germany",
         "Germany",
         "Europe"
        ],
        [
         9,
         "Australia",
         "Australia",
         "Pacific"
        ],
        [
         10,
         "United Kingdom",
         "United Kingdom",
         "Europe"
        ]
       ],
       "datasetInfos": [
        {
         "name": "_sqldf",
         "schema": {
          "fields": [
           {
            "metadata": {},
            "name": "SalesTerritoryKey",
            "nullable": true,
            "type": "integer"
           },
           {
            "metadata": {},
            "name": "Region",
            "nullable": true,
            "type": "string"
           },
           {
            "metadata": {},
            "name": "Country",
            "nullable": true,
            "type": "string"
           },
           {
            "metadata": {},
            "name": "Group",
            "nullable": true,
            "type": "string"
           }
          ],
          "type": "struct"
         },
         "tableIdentifier": null,
         "typeStr": "pyspark.sql.connect.dataframe.DataFrame"
        }
       ],
       "dbfsResultPath": null,
       "isJsonSchema": true,
       "metadata": {
        "createTempViewForImplicitDf": true,
        "dataframeName": "_sqldf",
        "executionCount": 6
       },
       "overflow": false,
       "plotOptions": {
        "customPlotOptions": {},
        "displayType": "table",
        "pivotAggregation": null,
        "pivotColumns": null,
        "xColumns": null,
        "yColumns": null
       },
       "removedWidgets": [],
       "schema": [
        {
         "metadata": "{}",
         "name": "SalesTerritoryKey",
         "type": "\"integer\""
        },
        {
         "metadata": "{}",
         "name": "Region",
         "type": "\"string\""
        },
        {
         "metadata": "{}",
         "name": "Country",
         "type": "\"string\""
        },
        {
         "metadata": "{}",
         "name": "Group",
         "type": "\"string\""
        }
       ],
       "type": "table"
      }
     },
     "output_type": "display_data"
    }
   ],
   "source": [
    "%sql\n",
    "SELECT \n",
    "  * \n",
    "FROM \n",
    "  netflix_data.netflix_schema.region\n",
    "LIMIT 10;"
   ]
  },
  {
   "cell_type": "code",
   "execution_count": 0,
   "metadata": {
    "application/vnd.databricks.v1+cell": {
     "cellMetadata": {
      "byteLimit": 2048000,
      "implicitDf": true,
      "rowLimit": 10000
     },
     "inputWidgets": {},
     "nuid": "ad5b308a-b6d9-4567-b9c2-df2374bf4bd6",
     "showTitle": false,
     "tableResultSettingsMap": {},
     "title": ""
    }
   },
   "outputs": [
    {
     "output_type": "display_data",
     "data": {
      "text/html": [
       "<style scoped>\n",
       "  .table-result-container {\n",
       "    max-height: 300px;\n",
       "    overflow: auto;\n",
       "  }\n",
       "  table, th, td {\n",
       "    border: 1px solid black;\n",
       "    border-collapse: collapse;\n",
       "  }\n",
       "  th, td {\n",
       "    padding: 5px;\n",
       "  }\n",
       "  th {\n",
       "    text-align: left;\n",
       "  }\n",
       "</style><div class='table-result-container'><table class='table-result'><thead style='background-color: white'><tr><th>EmployeeKey</th><th>EmployeeID</th><th>Salesperson</th><th>Title</th><th>UPN</th></tr></thead><tbody><tr><td>272</td><td>502097814</td><td>Stephen Jiang</td><td>North American Sales Manager</td><td>stephen-jiang@adventureworks.com</td></tr><tr><td>277</td><td>112432117</td><td>Brian Welcker</td><td>Director of Sales</td><td>brian-welcker@adventureworks.com</td></tr><tr><td>281</td><td>841560125</td><td>Michael Blythe</td><td>Sales Representative</td><td>michael-blythe@adventureworks.com</td></tr><tr><td>282</td><td>191644724</td><td>Linda Mitchell</td><td>Sales Representative</td><td>linda-mitchell@adventureworks.com</td></tr><tr><td>283</td><td>615389812</td><td>Jillian Carson</td><td>Sales Representative</td><td>jillian-carson@adventureworks.com</td></tr><tr><td>284</td><td>234474252</td><td>Garrett Vargas</td><td>Sales Representative</td><td>garrett-vargas@adventureworks.com</td></tr><tr><td>285</td><td>716374314</td><td>Tsvi Reiter</td><td>Sales Representative</td><td>tsvi-reiter@adventureworks.com</td></tr><tr><td>286</td><td>61161660</td><td>Pamela Ansman-Wolfe</td><td>Sales Representative</td><td>pamela-ansman-wolfe@adventureworks.com</td></tr><tr><td>287</td><td>139397894</td><td>Shu Ito</td><td>Sales Representative</td><td>shu-ito@adventureworks.com</td></tr><tr><td>288</td><td>399771412</td><td>José Saraiva</td><td>Sales Representative</td><td>jose-saraiva@adventureworks.com</td></tr></tbody></table></div>"
      ]
     },
     "metadata": {
      "application/vnd.databricks.v1+output": {
       "addedWidgets": {},
       "aggData": [],
       "aggError": "",
       "aggOverflow": false,
       "aggSchema": [],
       "aggSeriesLimitReached": false,
       "aggType": "",
       "arguments": {},
       "columnCustomDisplayInfos": {},
       "data": [
        [
         272,
         502097814,
         "Stephen Jiang",
         "North American Sales Manager",
         "stephen-jiang@adventureworks.com"
        ],
        [
         277,
         112432117,
         "Brian Welcker",
         "Director of Sales",
         "brian-welcker@adventureworks.com"
        ],
        [
         281,
         841560125,
         "Michael Blythe",
         "Sales Representative",
         "michael-blythe@adventureworks.com"
        ],
        [
         282,
         191644724,
         "Linda Mitchell",
         "Sales Representative",
         "linda-mitchell@adventureworks.com"
        ],
        [
         283,
         615389812,
         "Jillian Carson",
         "Sales Representative",
         "jillian-carson@adventureworks.com"
        ],
        [
         284,
         234474252,
         "Garrett Vargas",
         "Sales Representative",
         "garrett-vargas@adventureworks.com"
        ],
        [
         285,
         716374314,
         "Tsvi Reiter",
         "Sales Representative",
         "tsvi-reiter@adventureworks.com"
        ],
        [
         286,
         61161660,
         "Pamela Ansman-Wolfe",
         "Sales Representative",
         "pamela-ansman-wolfe@adventureworks.com"
        ],
        [
         287,
         139397894,
         "Shu Ito",
         "Sales Representative",
         "shu-ito@adventureworks.com"
        ],
        [
         288,
         399771412,
         "José Saraiva",
         "Sales Representative",
         "jose-saraiva@adventureworks.com"
        ]
       ],
       "datasetInfos": [
        {
         "name": "_sqldf",
         "schema": {
          "fields": [
           {
            "metadata": {},
            "name": "EmployeeKey",
            "nullable": true,
            "type": "integer"
           },
           {
            "metadata": {},
            "name": "EmployeeID",
            "nullable": true,
            "type": "integer"
           },
           {
            "metadata": {},
            "name": "Salesperson",
            "nullable": true,
            "type": "string"
           },
           {
            "metadata": {},
            "name": "Title",
            "nullable": true,
            "type": "string"
           },
           {
            "metadata": {},
            "name": "UPN",
            "nullable": true,
            "type": "string"
           }
          ],
          "type": "struct"
         },
         "tableIdentifier": null,
         "typeStr": "pyspark.sql.connect.dataframe.DataFrame"
        }
       ],
       "dbfsResultPath": null,
       "isJsonSchema": true,
       "metadata": {
        "createTempViewForImplicitDf": true,
        "dataframeName": "_sqldf",
        "executionCount": 8
       },
       "overflow": false,
       "plotOptions": {
        "customPlotOptions": {},
        "displayType": "table",
        "pivotAggregation": null,
        "pivotColumns": null,
        "xColumns": null,
        "yColumns": null
       },
       "removedWidgets": [],
       "schema": [
        {
         "metadata": "{}",
         "name": "EmployeeKey",
         "type": "\"integer\""
        },
        {
         "metadata": "{}",
         "name": "EmployeeID",
         "type": "\"integer\""
        },
        {
         "metadata": "{}",
         "name": "Salesperson",
         "type": "\"string\""
        },
        {
         "metadata": "{}",
         "name": "Title",
         "type": "\"string\""
        },
        {
         "metadata": "{}",
         "name": "UPN",
         "type": "\"string\""
        }
       ],
       "type": "table"
      }
     },
     "output_type": "display_data"
    }
   ],
   "source": [
    "%sql\n",
    "SELECT \n",
    "  * \n",
    "FROM \n",
    "  netflix_data.netflix_schema.salesperson\n",
    "LIMIT 10;"
   ]
  },
  {
   "cell_type": "code",
   "execution_count": 0,
   "metadata": {
    "application/vnd.databricks.v1+cell": {
     "cellMetadata": {
      "byteLimit": 2048000,
      "implicitDf": true,
      "rowLimit": 10000
     },
     "inputWidgets": {},
     "nuid": "d4de3464-d04f-40c6-89c3-9941d3efc622",
     "showTitle": false,
     "tableResultSettingsMap": {},
     "title": ""
    }
   },
   "outputs": [
    {
     "output_type": "display_data",
     "data": {
      "text/html": [
       "<style scoped>\n",
       "  .table-result-container {\n",
       "    max-height: 300px;\n",
       "    overflow: auto;\n",
       "  }\n",
       "  table, th, td {\n",
       "    border: 1px solid black;\n",
       "    border-collapse: collapse;\n",
       "  }\n",
       "  th, td {\n",
       "    padding: 5px;\n",
       "  }\n",
       "  th {\n",
       "    text-align: left;\n",
       "  }\n",
       "</style><div class='table-result-container'><table class='table-result'><thead style='background-color: white'><tr><th>ProductKey</th><th>Product</th><th>Category</th><th>Subcategory</th><th>Sales</th></tr></thead><tbody><tr><td>235</td><td>Long-Sleeve Logo Jersey, XL</td><td>Clothing</td><td>Jerseys</td><td>$57.68</td></tr><tr><td>351</td><td>Mountain-100 Black, 48</td><td>Bikes</td><td>Mountain Bikes</td><td>$4,049.98</td></tr><tr><td>348</td><td>Mountain-100 Black, 38</td><td>Bikes</td><td>Mountain Bikes</td><td>$4,049.98</td></tr><tr><td>232</td><td>Long-Sleeve Logo Jersey, L</td><td>Clothing</td><td>Jerseys</td><td>$57.68</td></tr><tr><td>292</td><td>HL Mountain Frame - Silver, 48</td><td>Components</td><td>Mountain Frames</td><td>$1,637.4</td></tr><tr><td>220</td><td>Sport-100 Helmet, Blue</td><td>Accessories</td><td>Helmets</td><td>$40.38</td></tr><tr><td>351</td><td>Mountain-100 Black, 48</td><td>Bikes</td><td>Mountain Bikes</td><td>$4,049.98</td></tr><tr><td>349</td><td>Mountain-100 Black, 42</td><td>Bikes</td><td>Mountain Bikes</td><td>$4,049.98</td></tr><tr><td>344</td><td>Mountain-100 Silver, 38</td><td>Bikes</td><td>Mountain Bikes</td><td>$4,079.98</td></tr><tr><td>346</td><td>Mountain-100 Silver, 44</td><td>Bikes</td><td>Mountain Bikes</td><td>$4,079.98</td></tr></tbody></table></div>"
      ]
     },
     "metadata": {
      "application/vnd.databricks.v1+output": {
       "addedWidgets": {},
       "aggData": [],
       "aggError": "",
       "aggOverflow": false,
       "aggSchema": [],
       "aggSeriesLimitReached": false,
       "aggType": "",
       "arguments": {},
       "columnCustomDisplayInfos": {},
       "data": [
        [
         235,
         "Long-Sleeve Logo Jersey, XL",
         "Clothing",
         "Jerseys",
         "$57.68"
        ],
        [
         351,
         "Mountain-100 Black, 48",
         "Bikes",
         "Mountain Bikes",
         "$4,049.98"
        ],
        [
         348,
         "Mountain-100 Black, 38",
         "Bikes",
         "Mountain Bikes",
         "$4,049.98"
        ],
        [
         232,
         "Long-Sleeve Logo Jersey, L",
         "Clothing",
         "Jerseys",
         "$57.68"
        ],
        [
         292,
         "HL Mountain Frame - Silver, 48",
         "Components",
         "Mountain Frames",
         "$1,637.4"
        ],
        [
         220,
         "Sport-100 Helmet, Blue",
         "Accessories",
         "Helmets",
         "$40.38"
        ],
        [
         351,
         "Mountain-100 Black, 48",
         "Bikes",
         "Mountain Bikes",
         "$4,049.98"
        ],
        [
         349,
         "Mountain-100 Black, 42",
         "Bikes",
         "Mountain Bikes",
         "$4,049.98"
        ],
        [
         344,
         "Mountain-100 Silver, 38",
         "Bikes",
         "Mountain Bikes",
         "$4,079.98"
        ],
        [
         346,
         "Mountain-100 Silver, 44",
         "Bikes",
         "Mountain Bikes",
         "$4,079.98"
        ]
       ],
       "datasetInfos": [
        {
         "name": "_sqldf",
         "schema": {
          "fields": [
           {
            "metadata": {},
            "name": "ProductKey",
            "nullable": true,
            "type": "integer"
           },
           {
            "metadata": {},
            "name": "Product",
            "nullable": true,
            "type": "string"
           },
           {
            "metadata": {},
            "name": "Category",
            "nullable": true,
            "type": "string"
           },
           {
            "metadata": {},
            "name": "Subcategory",
            "nullable": true,
            "type": "string"
           },
           {
            "metadata": {},
            "name": "Sales",
            "nullable": true,
            "type": "string"
           }
          ],
          "type": "struct"
         },
         "tableIdentifier": null,
         "typeStr": "pyspark.sql.connect.dataframe.DataFrame"
        }
       ],
       "dbfsResultPath": null,
       "isJsonSchema": true,
       "metadata": {
        "createTempViewForImplicitDf": true,
        "dataframeName": "_sqldf",
        "executionCount": 11
       },
       "overflow": false,
       "plotOptions": {
        "customPlotOptions": {},
        "displayType": "table",
        "pivotAggregation": null,
        "pivotColumns": null,
        "xColumns": null,
        "yColumns": null
       },
       "removedWidgets": [],
       "schema": [
        {
         "metadata": "{}",
         "name": "ProductKey",
         "type": "\"integer\""
        },
        {
         "metadata": "{}",
         "name": "Product",
         "type": "\"string\""
        },
        {
         "metadata": "{}",
         "name": "Category",
         "type": "\"string\""
        },
        {
         "metadata": "{}",
         "name": "Subcategory",
         "type": "\"string\""
        },
        {
         "metadata": "{}",
         "name": "Sales",
         "type": "\"string\""
        }
       ],
       "type": "table"
      }
     },
     "output_type": "display_data"
    }
   ],
   "source": [
    "%sql\n",
    "SELECT \n",
    "  p.ProductKey,\n",
    "  p.Product,\n",
    "  p.Category,\n",
    "  p.Subcategory,\n",
    "  s.Sales\n",
    "FROM \n",
    "  netflix_data.netflix_schema.product p\n",
    "    INNER JOIN\n",
    "  netflix_data.netflix_schema.sales s ON p.ProductKey = s.ProductKey\n",
    "LIMIT 10;  "
   ]
  }
 ],
 "metadata": {
  "application/vnd.databricks.v1+notebook": {
   "computePreferences": null,
   "dashboards": [],
   "environmentMetadata": {
    "base_environment": "",
    "environment_version": "3"
   },
   "inputWidgetPreferences": null,
   "language": "python",
   "notebookMetadata": {
    "mostRecentlyExecutedCommandWithImplicitDF": {
     "commandId": 6294788718905012,
     "dataframes": [
      "_sqldf"
     ]
    },
    "pythonIndentUnit": 4
   },
   "notebookName": "delta_table_query",
   "widgets": {}
  },
  "language_info": {
   "name": "python"
  }
 },
 "nbformat": 4,
 "nbformat_minor": 0
}