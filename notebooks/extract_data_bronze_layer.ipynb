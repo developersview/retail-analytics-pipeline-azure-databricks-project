{
 "cells": [
  {
   "cell_type": "code",
   "execution_count": 0,
   "metadata": {
    "application/vnd.databricks.v1+cell": {
     "cellMetadata": {
      "byteLimit": 2048000,
      "rowLimit": 10000
     },
     "inputWidgets": {},
     "nuid": "16fe820a-c17a-4a5f-8637-c25209bc0c5d",
     "showTitle": false,
     "tableResultSettingsMap": {},
     "title": ""
    }
   },
   "outputs": [
    {
     "output_type": "stream",
     "name": "stdout",
     "output_type": "stream",
     "text": [
      "Starting Extracting data from Bronze layer and ingest to silver layer ....\n"
     ]
    }
   ],
   "source": [
    "print(\"Starting Extracting data from Bronze layer and ingest to silver layer ....\")"
   ]
  },
  {
   "cell_type": "code",
   "execution_count": 0,
   "metadata": {
    "application/vnd.databricks.v1+cell": {
     "cellMetadata": {
      "byteLimit": 2048000,
      "rowLimit": 10000
     },
     "inputWidgets": {},
     "nuid": "dc5ad263-831e-4877-b9e2-8841eeed35af",
     "showTitle": false,
     "tableResultSettingsMap": {},
     "title": ""
    }
   },
   "outputs": [],
   "source": [
    "dbutils.widgets.text(\"sourcefolder\", \"Product\")\n",
    "dbutils.widgets.text(\"destinationfolder\", \"Product\")"
   ]
  },
  {
   "cell_type": "code",
   "execution_count": 0,
   "metadata": {
    "application/vnd.databricks.v1+cell": {
     "cellMetadata": {
      "byteLimit": 2048000,
      "rowLimit": 10000
     },
     "inputWidgets": {},
     "nuid": "2a8838fe-17ef-4cdb-af28-68a65874209c",
     "showTitle": false,
     "tableResultSettingsMap": {},
     "title": ""
    }
   },
   "outputs": [],
   "source": [
    "var_src_folder = dbutils.widgets.get(\"sourcefolder\")\n",
    "var_tgt_folder = dbutils.widgets.get(\"destinationfolder\")"
   ]
  },
  {
   "cell_type": "code",
   "execution_count": 0,
   "metadata": {
    "application/vnd.databricks.v1+cell": {
     "cellMetadata": {
      "byteLimit": 2048000,
      "rowLimit": 10000
     },
     "inputWidgets": {},
     "nuid": "9837e090-4843-444a-8524-2ba8e86c7069",
     "showTitle": false,
     "tableResultSettingsMap": {},
     "title": ""
    }
   },
   "outputs": [],
   "source": [
    "df = spark.read.csv(f'abfss://bronze@azureprojectdatalakegen2.dfs.core.windows.net/{var_src_folder}/{var_tgt_folder}.csv', header=True, inferSchema=True)"
   ]
  },
  {
   "cell_type": "code",
   "execution_count": 0,
   "metadata": {
    "application/vnd.databricks.v1+cell": {
     "cellMetadata": {
      "byteLimit": 2048000,
      "rowLimit": 10000
     },
     "inputWidgets": {},
     "nuid": "68f5bf3e-8ff3-4a33-95b6-296df29482f8",
     "showTitle": false,
     "tableResultSettingsMap": {},
     "title": ""
    }
   },
   "outputs": [
    {
     "output_type": "stream",
     "name": "stdout",
     "output_type": "stream",
     "text": [
      "root\n |-- ProductKey: integer (nullable = true)\n |-- Product: string (nullable = true)\n |-- StandardCost: string (nullable = true)\n |-- Color: string (nullable = true)\n |-- Subcategory: string (nullable = true)\n |-- Category: string (nullable = true)\n |-- BackgroundColorFormat: string (nullable = true)\n |-- FontColorFormat: string (nullable = true)\n\n+----------+--------------------+------------+-----+-----------+-----------+---------------------+---------------+\n|ProductKey|             Product|StandardCost|Color|Subcategory|   Category|BackgroundColorFormat|FontColorFormat|\n+----------+--------------------+------------+-----+-----------+-----------+---------------------+---------------+\n|       210|HL Road Frame - B...|     $868.63|Black|Road Frames| Components|              #000000|        #FFFFFF|\n|       215|Sport-100 Helmet,...|      $12.03|Black|    Helmets|Accessories|              #000000|        #FFFFFF|\n|       216|Sport-100 Helmet,...|      $13.88|Black|    Helmets|Accessories|              #000000|        #FFFFFF|\n|       217|Sport-100 Helmet,...|      $13.09|Black|    Helmets|Accessories|              #000000|        #FFFFFF|\n|       253|LL Road Frame - B...|      $176.2|Black|Road Frames| Components|              #000000|        #FFFFFF|\n+----------+--------------------+------------+-----+-----------+-----------+---------------------+---------------+\nonly showing top 5 rows\n"
     ]
    }
   ],
   "source": [
    "df.printSchema()\n",
    "df.show(5)"
   ]
  },
  {
   "cell_type": "code",
   "execution_count": 0,
   "metadata": {
    "application/vnd.databricks.v1+cell": {
     "cellMetadata": {
      "byteLimit": 2048000,
      "rowLimit": 10000
     },
     "inputWidgets": {},
     "nuid": "3149cad2-0d72-4ddc-bed4-d4b6f16fc3ec",
     "showTitle": false,
     "tableResultSettingsMap": {},
     "title": ""
    }
   },
   "outputs": [],
   "source": [
    "df.write.format(\"delta\").mode(\"overwrite\")\\\n",
    "    .option('overwriteSchema', 'true')\\\n",
    "    .option(\"path\", f\"abfss://silver@azureprojectdatalakegen2.dfs.core.windows.net/{var_tgt_folder}\")\\\n",
    "    .save()"
   ]
  },
  {
   "cell_type": "code",
   "execution_count": 0,
   "metadata": {
    "application/vnd.databricks.v1+cell": {
     "cellMetadata": {
      "byteLimit": 2048000,
      "rowLimit": 10000
     },
     "inputWidgets": {},
     "nuid": "47541c14-8083-4144-9843-5f74b5a8bd5e",
     "showTitle": false,
     "tableResultSettingsMap": {},
     "title": ""
    }
   },
   "outputs": [
    {
     "output_type": "stream",
     "name": "stdout",
     "output_type": "stream",
     "text": [
      "Completed Extracting data from Bronze layer and ingest to silver layer ....\n"
     ]
    }
   ],
   "source": [
    "print(\"Completed Extracting data from Bronze layer and ingest to silver layer ....\")"
   ]
  }
 ],
 "metadata": {
  "application/vnd.databricks.v1+notebook": {
   "computePreferences": null,
   "dashboards": [],
   "environmentMetadata": {
    "base_environment": "",
    "environment_version": "2"
   },
   "inputWidgetPreferences": null,
   "language": "python",
   "notebookMetadata": {
    "pythonIndentUnit": 4
   },
   "notebookName": "extract_data_bronze_layer",
   "widgets": {
    "destinationfolder": {
     "currentValue": "Product",
     "nuid": "8f020e16-1b58-4704-8400-a4ebf9167e96",
     "typedWidgetInfo": {
      "autoCreated": false,
      "defaultValue": "Product",
      "label": null,
      "name": "destinationfolder",
      "options": {
       "widgetDisplayType": "Text",
       "validationRegex": null
      },
      "parameterDataType": "String"
     },
     "widgetInfo": {
      "widgetType": "text",
      "defaultValue": "Product",
      "label": null,
      "name": "destinationfolder",
      "options": {
       "widgetType": "text",
       "autoCreated": null,
       "validationRegex": null
      }
     }
    },
    "sourcefolder": {
     "currentValue": "Product",
     "nuid": "4b997424-7f83-49a7-bb53-70b1d7a17d55",
     "typedWidgetInfo": {
      "autoCreated": false,
      "defaultValue": "Product",
      "label": null,
      "name": "sourcefolder",
      "options": {
       "widgetDisplayType": "Text",
       "validationRegex": null
      },
      "parameterDataType": "String"
     },
     "widgetInfo": {
      "widgetType": "text",
      "defaultValue": "Product",
      "label": null,
      "name": "sourcefolder",
      "options": {
       "widgetType": "text",
       "autoCreated": null,
       "validationRegex": null
      }
     }
    }
   }
  },
  "language_info": {
   "name": "python"
  }
 },
 "nbformat": 4,
 "nbformat_minor": 0
}